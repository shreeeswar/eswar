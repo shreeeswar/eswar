{
  "nbformat": 4,
  "nbformat_minor": 0,
  "metadata": {
    "colab": {
      "name": "python programm.ipynb",
      "provenance": [],
      "collapsed_sections": [],
      "authorship_tag": "ABX9TyNqcfibSBvutBpo27pKOZUQ",
      "include_colab_link": true
    },
    "kernelspec": {
      "name": "python3",
      "display_name": "Python 3"
    },
    "language_info": {
      "name": "python"
    }
  },
  "cells": [
    {
      "cell_type": "markdown",
      "metadata": {
        "id": "view-in-github",
        "colab_type": "text"
      },
      "source": [
        "<a href=\"https://colab.research.google.com/github/shreeeswar/eswar/blob/main/python_programm.ipynb\" target=\"_parent\"><img src=\"https://colab.research.google.com/assets/colab-badge.svg\" alt=\"Open In Colab\"/></a>"
      ]
    },
    {
      "cell_type": "code",
      "metadata": {
        "id": "s6RjzPGJgsvO",
        "colab": {
          "base_uri": "https://localhost:8080/"
        },
        "outputId": "128952f3-107e-4eb6-b926-2e70169338a7"
      },
      "source": [
        "a = int(input(\"enter the number\"))\n",
        "b = int(input(\"enter the number\"))\n",
        "c = int(input(\"enter the number\"))\n",
        "d = int(input(\"enter the number\"))\n",
        "e = int(input(\"enter the number\"))\n",
        "\n",
        "# function\n",
        "def divisibility_check(k):\n",
        "  if (k%3==0):\n",
        "    print(str(k) +\" is divisible by 3\")\n",
        "  else:\n",
        "      print(str(k) +\" is not divisible by 3\")\n",
        "divisibility_check(a)\n",
        "divisibility_check(b)\n",
        "divisibility_check(c)\n",
        "divisibility_check(d)\n",
        "divisibility_check(d)"
      ],
      "execution_count": null,
      "outputs": [
        {
          "output_type": "stream",
          "text": [
            "enter the number4\n",
            "enter the number5\n",
            "enter the number6\n",
            "enter the number7\n",
            "enter the number8\n",
            "4 is not divisible by 3\n",
            "5 is not divisible by 3\n",
            "6 is divisible by 3\n",
            "7 is not divisible by 3\n",
            "7 is not divisible by 3\n"
          ],
          "name": "stdout"
        }
      ]
    },
    {
      "cell_type": "code",
      "metadata": {
        "colab": {
          "base_uri": "https://localhost:8080/"
        },
        "id": "dIGXWtYLaq92",
        "outputId": "25175bed-2833-4765-e4a9-3ad32a7f0d21"
      },
      "source": [
        "a = int(input(\"enter the number\"))\n",
        "b = int(input(\"enter the number\"))\n",
        "c = int(input(\"enter the number\"))\n",
        "d = int(input(\"enter the number\"))\n",
        "e = int(input(\"enter the number\"))\n",
        "\n",
        "# function\n",
        "def divisibility_check_3 (k):\n",
        "  if (k%3==0):\n",
        "    print(str(k) +\" is divisible by 3\")\n",
        "  else:\n",
        "    print(str(k) + \"is not divisible by 3\")  \n",
        "def divisibility_check_2 (p):\n",
        "  if (p%3==0):\n",
        "    print(str(p) +\" is divisible by 2\")\n",
        "  else:\n",
        "    print(str(p) + \"is not divisible by 2\")\n",
        "divisibility_check_3(a)\n",
        "divisibility_check_3(b)\n",
        "divisibility_check_3(c)\n",
        "divisibility_check_3(d)\n",
        "divisibility_check_2(e)"
      ],
      "execution_count": null,
      "outputs": [
        {
          "output_type": "stream",
          "text": [
            "enter the number3\n",
            "enter the number4\n",
            "enter the number5\n",
            "enter the number6\n",
            "enter the number7\n",
            "3 is divisible by 3\n",
            "4is not divisible by 3\n",
            "5is not divisible by 3\n",
            "6 is divisible by 3\n",
            "7is not divisible by 2\n"
          ],
          "name": "stdout"
        }
      ]
    },
    {
      "cell_type": "code",
      "metadata": {
        "colab": {
          "base_uri": "https://localhost:8080/"
        },
        "id": "zP8NCJIUraIk",
        "outputId": "9ad20b5a-2e15-47f2-a08f-ec7a9deae79e"
      },
      "source": [
        "for i in range(1,10):\n",
        "  a = int(input(\"enter the number\"))\n",
        "  if (a%3 ==0 ):\n",
        "    print(str(a)+ \"is divisible by 3\")\n",
        "  else:\n",
        "    print(str(a)+ \"is not divisible by 3\")  "
      ],
      "execution_count": null,
      "outputs": [
        {
          "output_type": "stream",
          "text": [
            "enter the number22\n",
            "22is not divisible by 3\n",
            "enter the number23\n",
            "23is not divisible by 3\n",
            "enter the number24\n",
            "24is divisible by 3\n",
            "enter the number25\n",
            "25is not divisible by 3\n",
            "enter the number26\n",
            "26is not divisible by 3\n",
            "enter the number27\n",
            "27is divisible by 3\n",
            "enter the number28\n",
            "28is not divisible by 3\n",
            "enter the number29\n",
            "29is not divisible by 3\n",
            "enter the number30\n",
            "30is divisible by 3\n"
          ],
          "name": "stdout"
        }
      ]
    },
    {
      "cell_type": "code",
      "metadata": {
        "colab": {
          "base_uri": "https://localhost:8080/"
        },
        "id": "ufqyKOUT4eBj",
        "outputId": "af251bd0-9f77-4b39-c872-a27480e204a8"
      },
      "source": [
        "store = [\"banana\",\"mango\",\"guava\",\"pineapple\",\"oranga\"]\n",
        "store.append(\"grapes\")\n",
        "store.remove(\"mango\")\n",
        "store.insert(0,\"mango\")\n",
        "store.append(\"grapes\")\n",
        "store.sort()\n",
        "print(store)"
      ],
      "execution_count": null,
      "outputs": [
        {
          "output_type": "stream",
          "text": [
            "['banana', 'grapes', 'grapes', 'guava', 'mango', 'oranga', 'pineapple']\n"
          ],
          "name": "stdout"
        }
      ]
    },
    {
      "cell_type": "code",
      "metadata": {
        "colab": {
          "base_uri": "https://localhost:8080/"
        },
        "id": "Mg5KYG5A6ZOG",
        "outputId": "d3bd0568-dce9-456b-a75d-d2a195cc41d3"
      },
      "source": [
        "#tuple\n",
        "fruits=(\"banana\",\"mango\",\"guava\",\"pineapple\",\"orange\")\n",
        "student=[(\"shree eswar\",\"maths\",\"85\"),(\"aravind\",\"maths\",\"89\")]\n",
        "print(student)\n",
        "print(fruits)"
      ],
      "execution_count": null,
      "outputs": [
        {
          "output_type": "stream",
          "text": [
            "[('shree eswar', 'maths', '85'), ('aravind', 'maths', '89')]\n",
            "('banana', 'mango', 'guava', 'pineapple', 'orange')\n"
          ],
          "name": "stdout"
        }
      ]
    },
    {
      "cell_type": "code",
      "metadata": {
        "colab": {
          "base_uri": "https://localhost:8080/"
        },
        "id": "D-fuWUqa7TOW",
        "outputId": "2847b1f7-4e63-4c8f-b051-298e38bab385"
      },
      "source": [
        "fruits={\"banana\",\"mango\",\"orange\",\"pineapple\",\"orange\"}\n",
        "print(fruits)"
      ],
      "execution_count": null,
      "outputs": [
        {
          "output_type": "stream",
          "text": [
            "{'orange', 'pineapple', 'banana', 'mango'}\n"
          ],
          "name": "stdout"
        }
      ]
    },
    {
      "cell_type": "code",
      "metadata": {
        "colab": {
          "base_uri": "https://localhost:8080/"
        },
        "id": "czL1mBID-Hu-",
        "outputId": "10e087c2-94d5-4f35-f9ca-aeb3b8f93875"
      },
      "source": [
        "student={\"name\" : \"eswar\" , \"subjects\" : \"maths\" , \"marks\" : \"89\"} \n",
        "print(student)"
      ],
      "execution_count": null,
      "outputs": [
        {
          "output_type": "stream",
          "text": [
            "{'name': 'eswar', 'subjects': 'maths', 'marks': '89'}\n"
          ],
          "name": "stdout"
        }
      ]
    },
    {
      "cell_type": "code",
      "metadata": {
        "colab": {
          "base_uri": "https://localhost:8080/"
        },
        "id": "KSloxL9W_TM8",
        "outputId": "ff8b3ea4-f8d2-4e78-e161-cb6d107778a1"
      },
      "source": [
        "#list of student dictionary\n",
        "student={\"name\" : \"eswar\" , \"subjects\" : \"maths\" , \"marks\" : \"89\" }, {\"name\" : \"tridev\" , \"subjects\" : \"science\" , \"marks\" : \"89\" },{\"name\" : \"anand\" , \"subject\" : \"english\" , \"marks\" : \"87\" }\n",
        "print(student)"
      ],
      "execution_count": null,
      "outputs": [
        {
          "output_type": "stream",
          "text": [
            "({'name': 'eswar', 'subjects': 'maths', 'marks': '89'}, {'name': 'tridev', 'subjects': 'science', 'marks': '89'}, {'name': 'anand', 'subject': 'english', 'marks': '87'})\n"
          ],
          "name": "stdout"
        }
      ]
    },
    {
      "cell_type": "code",
      "metadata": {
        "id": "TN4BZpQtD8WM",
        "colab": {
          "base_uri": "https://localhost:8080/"
        },
        "outputId": "05eb4de6-8caa-456c-ee2f-b007727c087f"
      },
      "source": [
        "TRY\n",
        "a = int(input(\"enter the number\"))\n",
        "b = int(input(\"enter the number\"))\n",
        "c = int(input(\"enter the number\"))\n",
        "d = int(input(\"enter the number\"))\n",
        "e = int(input(\"enter the munber\"))\n",
        "\n",
        "#function\n",
        "def divisibility_check(k):\n",
        "  if (k%3==0):\n",
        "    print(str(k) +\" divisible by 3\")\n",
        "  else:\n",
        "    print(str(k) +\" not divisible by 3\")\n",
        "divisibility_check(a)\n",
        "divisibility_check(b)\n",
        "divisibility_check(c)\n",
        "divisibility_check(d)\n",
        "divisibility_check(e)"
      ],
      "execution_count": null,
      "outputs": [
        {
          "output_type": "stream",
          "text": [
            "enter the number3\n",
            "enter the number4\n",
            "enter the number5\n",
            "enter the number6\n",
            "enter the munber7\n",
            "3 divisible by 3\n",
            "4 not divisible by 3\n",
            "5 not divisible by 3\n",
            "6 divisible by 3\n",
            "7 not divisible by 3\n"
          ],
          "name": "stdout"
        }
      ]
    },
    {
      "cell_type": "code",
      "metadata": {
        "colab": {
          "base_uri": "https://localhost:8080/"
        },
        "id": "lEBzgsBI6aHg",
        "outputId": "5b611169-bb79-46f3-f07b-7114c3e52722"
      },
      "source": [
        "TRY\n",
        "a = int(input(\"enter the numbre\"))\n",
        "b = int(input(\"enter the number\"))\n",
        "c = int(input(\"enter the number\"))\n",
        "d = int(input(\"enter the number\"))\n",
        "e = int(input(\"enter the number\"))\n",
        "f = int(input(\"enter the number\"))\n",
        "\n",
        "# function\n",
        "def divisibility_check_3 (k):\n",
        "  if (k%3==0):\n",
        "    print(str(k) +\" is divisible by 3\")\n",
        "  else:\n",
        "    print(str(k) + \"is not divisible by 3\")  \n",
        "def divisibility_check_2 (p):\n",
        "  if (p%3==0):\n",
        "    print(str(p) +\" is divisible by 2\")\n",
        "  else:\n",
        "    print(str(p) +\" is not divisible by 2\")\n",
        "divisibility_check_3(a)\n",
        "divisibility_check_3(b)\n",
        "divisibility_check_3(c)\n",
        "divisibility_check_2(d)\n",
        "divisibility_check_2(e)\n",
        "divisibility_check_2(f)\n"
      ],
      "execution_count": null,
      "outputs": [
        {
          "output_type": "stream",
          "text": [
            "enter the numbre2\n",
            "enter the number3\n",
            "enter the number4\n",
            "enter the number5\n",
            "enter the number6\n",
            "enter the number7\n",
            "2is not divisible by 3\n",
            "3 is divisible by 3\n",
            "4is not divisible by 3\n",
            "5 is not divisible by 2\n",
            "6 is divisible by 2\n",
            "7 is not divisible by 2\n"
          ],
          "name": "stdout"
        }
      ]
    },
    {
      "cell_type": "code",
      "metadata": {
        "colab": {
          "base_uri": "https://localhost:8080/"
        },
        "id": "xvLc2TDU_kGD",
        "outputId": "08beb252-7fa9-4303-962e-6f14a80b0446"
      },
      "source": [
        "TRY\n",
        "for i in range(1,10):\n",
        "  a = int(input(\"enter the number\"))\n",
        "  if (a%3 2==0):\n",
        "    print(str(a) +\" divisible by 3\")\n",
        "  else:\n",
        "    print(str(a) +\" not divisible by 3\")   "
      ],
      "execution_count": null,
      "outputs": [
        {
          "output_type": "stream",
          "text": [
            "enter the number22\n",
            "22 not divisible by 3\n",
            "enter the number23\n",
            "23 not divisible by 3\n",
            "enter the number24\n",
            "24 divisible by 3\n",
            "enter the number25\n",
            "25 not divisible by 3\n",
            "enter the number26\n",
            "26 not divisible by 3\n",
            "enter the number27\n",
            "27 divisible by 3\n",
            "enter the number8\n",
            "8 not divisible by 3\n",
            "enter the number28\n",
            "28 not divisible by 3\n",
            "enter the number29\n",
            "29 not divisible by 3\n"
          ],
          "name": "stdout"
        }
      ]
    },
    {
      "cell_type": "code",
      "metadata": {
        "colab": {
          "base_uri": "https://localhost:8080/"
        },
        "id": "Wxul_MEWB0BV",
        "outputId": "9cccad8a-90bd-49ab-b4fe-ab64598f1678"
      },
      "source": [
        "TRY\n",
        "store = [\"banana\",\"apple\",\"orange\",\"pineapple\",\"grapes\"]\n",
        "store.append(\"pear\")\n",
        "store.remove(\"apple\")\n",
        "store.insert(0,\"mango\")\n",
        "print(store)"
      ],
      "execution_count": null,
      "outputs": [
        {
          "output_type": "stream",
          "text": [
            "['mango', 'banana', 'orange', 'pineapple', 'grapes', 'pear']\n"
          ],
          "name": "stdout"
        }
      ]
    },
    {
      "cell_type": "code",
      "metadata": {
        "colab": {
          "base_uri": "https://localhost:8080/"
        },
        "id": "SFZ5OQoCDVJD",
        "outputId": "b67e5890-f27b-4691-c448-86c9559438fc"
      },
      "source": [
        "TRY\n",
        "#tuple\n",
        "store = (\"banana\",\"apple\",\"orange\",\"pear\",\"pineapple\",\"grapes\")\n",
        "student = (\"Eswar\",\"maths\",\"88\"),(\"Tridev\",\"maths\",\"90\")\n",
        "print(store)\n",
        "print(student)"
      ],
      "execution_count": null,
      "outputs": [
        {
          "output_type": "stream",
          "text": [
            "('banana', 'apple', 'orange', 'pear', 'pineapple', 'grapes')\n",
            "(('Eswar', 'maths', '88'), ('Tridev', 'maths', '90'))\n"
          ],
          "name": "stdout"
        }
      ]
    },
    {
      "cell_type": "code",
      "metadata": {
        "id": "FtE7JiasQhQr"
      },
      "source": [
        "# programm make a simple calculator\n",
        "\n",
        "# This function adds two numbers\n",
        "def add(a,b):\n",
        "    return a + b\n",
        "\n",
        "# This function subtracts two numbers\n",
        "def subtract(a,b):\n",
        "    return a - b\n",
        "\n",
        "# This function multiplies two numbers\n",
        "def multiply(a,b):\n",
        "    return a * b\n",
        "\n",
        "# This function divides two numbers\n",
        "def divide(a,b):\n",
        "    return a / b\n",
        "\n",
        "print(\"Select operation.\")\n",
        "print(\"1.Add\")\n",
        "print(\"2.Subtract\")\n",
        "print(\"3.Multiply\")\n",
        "print(\"4.Divide\")\n",
        "\n",
        "# take input for the user\n",
        "choice = input(\"enter choice(1/2/3/4)\")\n",
        "\n",
        "#check if choice is one of the four option\n",
        "if choice in ('1','2','3','4'):\n",
        "        num1 = float(input(\"enter first number:\"))\n",
        "        num2 = float(input(\"enter second number:\"))\n",
        "\n",
        "        if choice == '1':\n",
        "          print(num1,\"+\",num2,\"=\",add(num1,num2))\n",
        "        \n",
        "        elif choice == '2':\n",
        "          print(num1,\"-\",num2,\"=\",subtract(num1,num2))\n",
        "\n",
        "        elif choice == '3':\n",
        "          print(num1,\"*\",num2,\"=\",multiply(num1,num2))\n",
        "\n",
        "        elif choice == '4':\n",
        "          print(num1,\"/\",num2,\"=\",divide(num1,num2))\n",
        "         \n",
        "        break\n",
        "    \n",
        "        print(\"invalid input\")          "
      ],
      "execution_count": null,
      "outputs": []
    },
    {
      "cell_type": "code",
      "metadata": {
        "id": "e-dPZNKyrBUA"
      },
      "source": [
        "a = float(input(\"enter the first term : \"))\n",
        "d = float(input(\"enter the difference : \"))\n",
        "for n in range(1,11)\n",
        "  print(a+(n-1)*d)"
      ],
      "execution_count": null,
      "outputs": []
    }
  ]
}